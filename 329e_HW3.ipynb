{
 "cells": [
  {
   "cell_type": "markdown",
   "metadata": {},
   "source": [
    "# Homework 3\n",
    "\n",
    "## Enya Liu\n",
    "\n",
    "## Normal and t distributions\n",
    "## t-test\n"
   ]
  },
  {
   "cell_type": "markdown",
   "metadata": {},
   "source": [
    "An experiment was conducted to determine the effect of children participating in a given meal preparation on calorie intake for that meal. Data are recorded below. \n",
    "\n",
    "Save the data to a format that can be read into python. Read the data in for analysis. Data is provided in two separted CSV files. \n",
    "\n",
    "* Use python to calculate the quantities and generate the visual summaries requested below. You will lose points if you are not utilizing python.\n",
    "\n",
    "* You can use scipy libary or other libraries to do your tests or you can implement them from scratch in python \n",
    "\n"
   ]
  },
  {
   "cell_type": "code",
   "execution_count": 1,
   "metadata": {},
   "outputs": [],
   "source": [
    "# Standard Headers\n",
    "# You are welcome to add additional headers here if you wish\n",
    "import pandas as pd\n",
    "import numpy as np\n",
    "import matplotlib.pyplot as plt\n",
    "\n",
    "# Enable inline mode for matplotlib so that Jupyter displays graphs\n",
    "%matplotlib inline"
   ]
  },
  {
   "cell_type": "markdown",
   "metadata": {},
   "source": [
    "# Question - 1\n",
    "Summarize the data by whether children participated in the meal preparation or not. Use an appropriately labelled table to show the results. Also include a graphical presentation that shows the distribution of calories for participants vs. non-participants. Describe the shape of each distribution and comment on the similarity (or lack thereof) between the distributions in each population. **(2 points)**\n"
   ]
  },
  {
   "cell_type": "code",
   "execution_count": 3,
   "metadata": {},
   "outputs": [
    {
     "name": "stdout",
     "output_type": "stream",
     "text": [
      "       participants  nonparticipants\n",
      "count     25.000000        22.000000\n",
      "mean     410.079600       374.071818\n",
      "std      121.513786       133.139285\n",
      "min      210.990000       139.690000\n",
      "25%      298.380000       296.392500\n",
      "50%      424.940000       374.740000\n",
      "75%      456.300000       445.557500\n",
      "max      635.210000       688.770000\n"
     ]
    },
    {
     "data": {
      "image/png": "[encoded data removed]",
      "text/plain": [
       "<Figure size 432x288 with 1 Axes>"
      ]
     },
     "metadata": {
      "needs_background": "light"
     },
     "output_type": "display_data"
    }
   ],
   "source": [
    "# Add your code or descriptions here \n",
    "# read the data\n",
    "participant_data = pd.read_csv('participants.csv')\n",
    "nonparticipant_data = pd.read_csv('nonparticipants.csv')\n",
    "\n",
    "# my personal position\n",
    "# participant_data = pd.read_csv(r'C:\\Users\\Ley\\Desktop\\participants.csv')\n",
    "# nonparticipant_data = pd.read_csv(r'C:\\Users\\Ley\\Desktop\\nonparticipants.csv')\n",
    "\n",
    "# create table to summarize\n",
    "all_data = participant_data.merge(nonparticipant_data, left_on='participants', right_on = 'nonparticipants', how = 'outer')\n",
    "all_data = all_data.describe()\n",
    "# all_data=all_data.transpose()\n",
    "print(all_data)\n",
    "\n",
    "# draw histogram\n",
    "tot_data = list(participant_data['participants']) + list(nonparticipant_data['nonparticipants'])\n",
    "\n",
    "N, bins, patches=plt.hist(x=tot_data, bins = 20, density=True, histtype='bar', rwidth=0.8,color = 'green', label = 'participant')\n",
    "plt.xlabel('calories')\n",
    "plt.ylabel('frequency')\n",
    "plt.show()"
   ]
  },
  {
   "cell_type": "markdown",
   "metadata": {},
   "source": [
    "# Question - 2 \n",
    "\n",
    "Does the mean calorie consumption for those who participated in the meal preparation differ from **425**? Formally test at the $\\alpha = 0.05$ level using the 5 steps outlined in the module. **(6 points)**\n"
   ]
  },
  {
   "cell_type": "code",
   "execution_count": 120,
   "metadata": {},
   "outputs": [
    {
     "name": "stdout",
     "output_type": "stream",
     "text": [
      "Ttest_1sampResult(statistic=array([-0.61393857]), pvalue=array([0.54503195]))\n",
      "Fail to reject the null hypothesis with a p-value greater than 𝛼\n"
     ]
    }
   ],
   "source": [
    "# Add your code or descriptions here \n",
    "# H0：Participants' mean calorie consumption = 425\n",
    "# Ha: Participants' mean calorie consumption != 425\n",
    "# Two sided, one sample t-test\n",
    "# decision rule is reject when p-value <= 𝛼\n",
    "from scipy.stats import t\n",
    "from scipy.stats import ttest_1samp\n",
    "# find critical value\n",
    "t_critical = scipy.stats.t.ppf(q=0.975,df=24)\n",
    "t_statistics = scipy.stats.ttest_1samp(a=participant_data, popmean=425, alternative = 'two-sided')\n",
    "print(t_statistics)\n",
    "print('Fail to reject the null hypothesis with a p-value greater than 𝛼')"
   ]
  },
  {
   "cell_type": "markdown",
   "metadata": {},
   "source": [
    "# Question -3 \n",
    "Calculate a **90%** confidence interval for the mean calorie intake for participants in the meal preparation. Interpret the confidence interval. **(6 points)**"
   ]
  },
  {
   "cell_type": "code",
   "execution_count": 123,
   "metadata": {},
   "outputs": [
    {
     "name": "stdout",
     "output_type": "stream",
     "text": [
      "(array([368.50044816]), array([451.65875184]))\n"
     ]
    }
   ],
   "source": [
    "# Add your code or descriptions here \n",
    "t_critical = scipy.stats.t.ppf(q=0.95,df=24)\n",
    "CI = scipy.stats.t.interval(alpha=0.90, df=len(participant_data)-1, loc=np.mean(participant_data), scale=scipy.stats.sem(participant_data)) \n",
    "print(CI)"
   ]
  },
  {
   "cell_type": "code",
   "execution_count": null,
   "metadata": {},
   "outputs": [],
   "source": []
  },
  {
   "cell_type": "markdown",
   "metadata": {},
   "source": [
    "# Question 4 \n",
    "Formally test whether or not participants consumed \n",
    "more calories than non-participants at the $\\alpha = 0.05$ level using the 5 steps procedure for hypothesis tests. **(6 points )**"
   ]
  },
  {
   "cell_type": "code",
   "execution_count": 124,
   "metadata": {},
   "outputs": [
    {
     "name": "stdout",
     "output_type": "stream",
     "text": [
      "Ttest_indResult(statistic=array([0.96935044]), pvalue=array([0.16877591]))\n",
      "Failed to reject the null hypothesis because p-value greater than 𝛼\n"
     ]
    }
   ],
   "source": [
    "# Add your code or descriptions here \n",
    "# H0: calories of participants = calories of nonparticipants\n",
    "# Ha: calories of participants > calories of nonparticipants\n",
    "# 2 sample, 1 sided t-test\n",
    "# decision rule is reject null if p-value <= 𝛼.\n",
    "from scipy.stats import ttest_ind\n",
    "result = scipy.stats.ttest_ind(a=participant_data, b=nonparticipant_data, alternative = 'greater')\n",
    "print(result)\n",
    "print('Failed to reject the null hypothesis because p-value greater than 𝛼')"
   ]
  },
  {
   "cell_type": "code",
   "execution_count": null,
   "metadata": {},
   "outputs": [],
   "source": []
  },
  {
   "cell_type": "code",
   "execution_count": null,
   "metadata": {},
   "outputs": [],
   "source": []
  }
 ],
 "metadata": {
  "kernelspec": {
   "display_name": "Python 3 (ipykernel)",
   "language": "python",
   "name": "python3"
  },
  "language_info": {
   "codemirror_mode": {
    "name": "ipython",
    "version": 3
   },
   "file_extension": ".py",
   "mimetype": "text/x-python",
   "name": "python",
   "nbconvert_exporter": "python",
   "pygments_lexer": "ipython3",
   "version": "3.8.8"
  }
 },
 "nbformat": 4,
 "nbformat_minor": 4
}
