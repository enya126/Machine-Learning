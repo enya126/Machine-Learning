{
 "cells": [
  {
   "cell_type": "markdown",
   "metadata": {},
   "source": [
    "## C S 329E HW 9\n",
    "\n",
    "# Crossvalidation and hyperparameter selection\n",
    "\n",
    "## Enya Liu\n",
    "\n",
    "For this week's homework we are going to explore the cross validation testing methodology and applying that to get error estimates on the two algorithms we've used so far:\n",
    "  - Linear Regression\n",
    "  - Decision Tree classification\n",
    "  "
   ]
  },
  {
   "cell_type": "code",
   "execution_count": 100,
   "metadata": {},
   "outputs": [],
   "source": [
    "# import the libraries! If you want to add things here for visualization, please do, \n",
    "# but only use sklearn when prompted\n",
    "import pandas as pd\n",
    "import numpy as np\n",
    "from sklearn import tree \n",
    "from sklearn.datasets import load_iris\n",
    "from sklearn.datasets import load_diabetes"
   ]
  },
  {
   "cell_type": "markdown",
   "metadata": {},
   "source": [
    "# Part 1 - Calculate Generalized Error on Linear Regression with k-fold Cross Validation"
   ]
  },
  {
   "cell_type": "markdown",
   "metadata": {},
   "source": [
    "## Q1.1 Load in the diabetes data set as a pandas dataframe and series.  \n",
    "Documentation is [here](https://scikit-learn.org/stable/modules/generated/sklearn.datasets.load_diabetes.html).  Name your features dataframe (the independent variables) `df_X` and your target (the dependent variable) series `s_y`"
   ]
  },
  {
   "cell_type": "code",
   "execution_count": 101,
   "metadata": {},
   "outputs": [],
   "source": [
    "diabetes = load_diabetes(as_frame = True)\n",
    "df_X = diabetes.data\n",
    "s_y = diabetes.target"
   ]
  },
  {
   "cell_type": "markdown",
   "metadata": {},
   "source": [
    "## Q1.2 Define a function that creates a linear least squares regression model \n",
    "This function should take in two parameters, `df_X`, and `s_y` and return the least squares regression model, $\\hat{\\beta}$ (using the notation from the ESLII book chapter 3 and HW2).  You can not use any libraries outside of pandas and numpy. "
   ]
  },
  {
   "cell_type": "code",
   "execution_count": 102,
   "metadata": {},
   "outputs": [],
   "source": [
    "def get_linear_regression_model( df_X, s_y ):\n",
    "    beta_hat = np.linalg.lstsq(df_X, s_y, rcond = False)[0]\n",
    "    return beta_hat"
   ]
  },
  {
   "cell_type": "markdown",
   "metadata": {},
   "source": [
    "## Q1.3 Define a function that partitions the dataframe and series data into dictionaries\n",
    "This function should take in three parameters, `df_X`, `s_y`, and `k`, and returns a tuple of two dictionaries.\n",
    "In both dictionaries the key is the `k` value (an integer from one to `k` inclusive).\n",
    "The first dictionary will have the dataframe of the training data that contains approximately $\\frac{1}{k}$ of the data (variation due to randomness is acceptable).\n",
    "The second dictionary will have the series of the target data that contains approximately $\\frac{1}{k}$ of the data (variation due to randomness is acceptable). Please note the targets _must match_ the same rows as the dataframe at this index, e.g, the length of the kth partition is the same for the dataframe and series.\n",
    "\n",
    "Call that function with $k=5$ and create the dictionaries `dict_k_df_X` and `dict_k_s_y`. Print out the number of rows in each fold.  Check that the number of data points in each partition totals the number of data points in the entire dataset. "
   ]
  },
  {
   "cell_type": "code",
   "execution_count": 103,
   "metadata": {},
   "outputs": [],
   "source": [
    "dict_k_df_X = dict()\n",
    "dict_k_s_y = dict()\n",
    "def partition_data( df_X, s_y, k ):\n",
    "    k_val = len(df_X) // k\n",
    "    idx = np.arange(len(df_X))\n",
    "    for i in range(1, k+1):\n",
    "        np.random.shuffle(idx)\n",
    "        dict_k_df_X[i] = df_X.loc[idx[:k_val+1]]\n",
    "        dict_k_s_y[i] = s_y.loc[idx[:k_val+1]]\n",
    "        idx = idx[k_val+1:]\n",
    "    return (dict_k_df_X, dict_k_s_y)   "
   ]
  },
  {
   "cell_type": "code",
   "execution_count": 104,
   "metadata": {},
   "outputs": [],
   "source": [
    "(dict_k_df_X, dict_k_s_y) = partition_data( df_X, s_y, 5 )"
   ]
  },
  {
   "cell_type": "code",
   "execution_count": 105,
   "metadata": {},
   "outputs": [
    {
     "name": "stdout",
     "output_type": "stream",
     "text": [
      "rows in fold 1 is 89\n",
      "rows in fold 2 is 89\n",
      "rows in fold 3 is 89\n",
      "rows in fold 4 is 89\n",
      "rows in fold 5 is 86\n"
     ]
    }
   ],
   "source": [
    "for i in range(1, 6):\n",
    "    print('rows in fold', i,'is',len(dict_k_df_X[i]))"
   ]
  },
  {
   "cell_type": "markdown",
   "metadata": {},
   "source": [
    "## Q1.4 Define a function that calculates a regression metric\n",
    "This function should accept two series of equal length $n$ numpy arrays, `s_y`, and `s_y_hat`. The metric it should calculate is the mean absolute error, $MAE = \\sum\\limits_{i=1}^n\\frac{|{s\\_y_i - {s\\_y\\_hat}_i}|}{n}$ \n",
    "\n",
    "Test your function by using the vectors:\n",
    "```\n",
    "x = np.array([1,2,3])\n",
    "y = np.array([2,2,3])\n",
    "```\n"
   ]
  },
  {
   "cell_type": "code",
   "execution_count": 106,
   "metadata": {},
   "outputs": [],
   "source": [
    "def get_mae(s_y, s_y_hat):\n",
    "    return np.sum(np.abs(s_y - s_y_hat) / len(s_y))"
   ]
  },
  {
   "cell_type": "code",
   "execution_count": 107,
   "metadata": {},
   "outputs": [
    {
     "data": {
      "text/plain": [
       "0.3333333333333333"
      ]
     },
     "execution_count": 107,
     "metadata": {},
     "output_type": "execute_result"
    }
   ],
   "source": [
    "# Test it \n",
    "x = np.array([1,2,3])\n",
    "y = np.array([2,2,3])\n",
    "get_mae(x,y)"
   ]
  },
  {
   "cell_type": "markdown",
   "metadata": {},
   "source": [
    "## Q1.5 Calculate the $MAE$ for each fold\n",
    "For each fold in your dictionaries, calculate the $MAE$.  Use the partition number key as the test set, and all other partitions as the train set. \n",
    "\n",
    "Print the min, max, and mean $MAE$ of your 5 folds. "
   ]
  },
  {
   "cell_type": "code",
   "execution_count": 108,
   "metadata": {},
   "outputs": [
    {
     "name": "stdout",
     "output_type": "stream",
     "text": [
      "min 146.94483641337277\n",
      "max 160.05424980607557\n",
      "mean 154.76938517690328\n"
     ]
    }
   ],
   "source": [
    "mae = np.array([])\n",
    "for k in dict_k_df_X.keys():\n",
    "    # partition number key as test\n",
    "    df_test = dict_k_df_X[k]\n",
    "    y_test = dict_k_s_y[k]\n",
    "    \n",
    "    # other partitions as train\n",
    "    df_train = df_X.copy().drop(df_test.index.values)\n",
    "    y_train = s_y.copy().drop(y_test.index.values)\n",
    "    \n",
    "    beta = get_linear_regression_model(df_train, y_train)\n",
    "    \n",
    "    predictions = np.sum(beta * df_test, axis = 1)\n",
    "    \n",
    "    mae = np.append( mae, get_mae(y_test, predictions) )  \n",
    "\n",
    "print('min', mae.min())\n",
    "print('max', mae.max())\n",
    "print('mean', mae.mean())"
   ]
  },
  {
   "cell_type": "code",
   "execution_count": null,
   "metadata": {},
   "outputs": [],
   "source": []
  },
  {
   "cell_type": "markdown",
   "metadata": {},
   "source": [
    "# Part 2 - Find the best hyperparameter to use in a Decision Tree "
   ]
  },
  {
   "cell_type": "markdown",
   "metadata": {},
   "source": [
    "## Q2.1 Load the iris data in as a pandas dataframe and a series\n",
    "Documentation is [here](https://scikit-learn.org/stable/modules/generated/sklearn.datasets.load_iris.html). Name your features dataframe (the independent variables) `df_X` and your classification target (the dependent variable) series `s_y`"
   ]
  },
  {
   "cell_type": "code",
   "execution_count": 109,
   "metadata": {},
   "outputs": [],
   "source": [
    "iris = load_iris(as_frame = True)\n",
    "df_X = iris.data\n",
    "s_y = iris.target"
   ]
  },
  {
   "cell_type": "markdown",
   "metadata": {},
   "source": [
    "## Q2.2 Partition `df_X` and `s_y` into $5$ partitions of roughly equal size\n",
    "Make 2 dictionaries, with the key of each dictionary the fold number.  The value of the dictionary `dict_k_df_X` is the $k^{th}$ partition of the data, and the value of the dictionary `dict_k_s_y` is the corresponding $k^{th}$ target classification.  Print out the number of rows in each fold.  Check that the number of data points in each partition totals the number of data points in the entire dataset. "
   ]
  },
  {
   "cell_type": "code",
   "execution_count": 110,
   "metadata": {},
   "outputs": [],
   "source": [
    "dict_k_df_X = dict()\n",
    "dict_k_s_y = dict()\n",
    "def partition_data( df_X, s_y, k):\n",
    "    k_val = len(df_X) // k\n",
    "    idx = np.arange(len(df_X))\n",
    "    for i in range(1, k+1):\n",
    "        np.random.shuffle(idx)\n",
    "        dict_k_df_X[i] = df_X.loc[idx[:k_val+1]]\n",
    "        dict_k_s_y[i] = s_y.loc[idx[:k_val+1]]\n",
    "        idx = idx[k_val+1:]\n",
    "    return (dict_k_df_X, dict_k_s_y)"
   ]
  },
  {
   "cell_type": "code",
   "execution_count": 111,
   "metadata": {},
   "outputs": [],
   "source": [
    "(dict_k_df_X, dict_k_s_y) = partition_data( df_X, s_y, 5 )"
   ]
  },
  {
   "cell_type": "code",
   "execution_count": 112,
   "metadata": {},
   "outputs": [
    {
     "name": "stdout",
     "output_type": "stream",
     "text": [
      "rows in fold 1 is 31\n",
      "rows in fold 2 is 31\n",
      "rows in fold 3 is 31\n",
      "rows in fold 4 is 31\n",
      "rows in fold 5 is 26\n"
     ]
    }
   ],
   "source": [
    "# test\n",
    "for i in range(1, 6):\n",
    "    print('rows in fold', i,'is',len(dict_k_df_X[i]))"
   ]
  },
  {
   "cell_type": "markdown",
   "metadata": {},
   "source": [
    "## Q2.3 Define a function that calculates accuracy\n",
    "The function should accept two series and compare each element for equality.  The accuracy is the number of equal elements divided by the total number of elements.\n",
    "\n",
    "Test your accuracy function by calling it with the `s_y` loaded from the iris data set and an array of the same length containing all $1$ values. "
   ]
  },
  {
   "cell_type": "code",
   "execution_count": 113,
   "metadata": {},
   "outputs": [],
   "source": [
    "def get_acc( s_1, s_2 ):\n",
    "    acc = s_1 == s_2\n",
    "    acc2 = acc.sum() / len(s_1)\n",
    "    return acc2"
   ]
  },
  {
   "cell_type": "code",
   "execution_count": 114,
   "metadata": {},
   "outputs": [
    {
     "data": {
      "text/plain": [
       "0.3333333333333333"
      ]
     },
     "execution_count": 114,
     "metadata": {},
     "output_type": "execute_result"
    }
   ],
   "source": [
    "get_acc(s_y,np.ones(len(s_y)))"
   ]
  },
  {
   "cell_type": "markdown",
   "metadata": {},
   "source": [
    "## Q2.4 Using Nested Cross validation, find the best hyperparameter\n",
    "Use the [Decision Tree Classifier](https://scikit-learn.org/stable/modules/tree.html#classification) class to build a decision tree inside of a 5-fold cross validation loop.  The partitions you already created in 2.2 will be the outer loop.  In the inside loop you should use 4-fold cross validation (so you don't have to partition _again_) to find the best value for `min_impurity_decrease`.  Use the Gini Index as your impurity measure. \n",
    "    Calculate the mean accuracy across the 4 folds of your inner loop for all the candidate `min_impurity_decrease` values, and print the value.  Use the array `np.array([0.1,0.25,0.3,0.4])` as the candidates for the best hyperparameter. If there is a tie (two `min_impurity_decrease` values give the same highest accuracy), choose the lowest `min_impurity_decrease` value. \n",
    "\n",
    "For each inner loop, select the best `min_impurity_decrease` and train the outer fold training data on using that value. \n",
    "\n",
    "For each inner loop, your output should look something like this:\n",
    "```\n",
    "Testing 0.10 min impurity decrease\n",
    "\tAverage accuracy over 4 folds is 0.95\n",
    "Testing 0.25 min impurity decrease\n",
    "\tAverage accuracy over 4 folds is 0.86\n",
    "Testing 0.30 min impurity decrease\n",
    "\tAverage accuracy over 4 folds is 0.63\n",
    "Testing 0.40 min impurity decrease\n",
    "\tAverage accuracy over 4 folds is 0.27\n",
    "\n",
    "Best min impurity decrease is 0.1\n",
    "\n",
    "```"
   ]
  },
  {
   "cell_type": "code",
   "execution_count": 115,
   "metadata": {},
   "outputs": [
    {
     "name": "stdout",
     "output_type": "stream",
     "text": [
      "Testing 0.1 min impurity decrease\n",
      "    Average accuracy over 4 folds is 0.9410919540229885\n",
      "Testing 0.25 min impurity decrease\n",
      "    Average accuracy over 4 folds is 0.7994252873563218\n",
      "Testing 0.3 min impurity decrease\n",
      "    Average accuracy over 4 folds is 0.6890804597701149\n",
      "Testing 0.4 min impurity decrease\n",
      "    Average accuracy over 4 folds is 0.3528735632183908\n",
      "\n",
      "Best min impurity decrease is 0.1\n",
      "\n",
      "Testing 0.1 min impurity decrease\n",
      "    Average accuracy over 4 folds is 0.9580459770114943\n",
      "Testing 0.25 min impurity decrease\n",
      "    Average accuracy over 4 folds is 0.8663793103448276\n",
      "Testing 0.3 min impurity decrease\n",
      "    Average accuracy over 4 folds is 0.7054597701149425\n",
      "Testing 0.4 min impurity decrease\n",
      "    Average accuracy over 4 folds is 0.33620689655172414\n",
      "\n",
      "Best min impurity decrease is 0.1\n",
      "\n",
      "Testing 0.1 min impurity decrease\n",
      "    Average accuracy over 4 folds is 0.9410919540229884\n",
      "Testing 0.25 min impurity decrease\n",
      "    Average accuracy over 4 folds is 0.8744252873563217\n",
      "Testing 0.3 min impurity decrease\n",
      "    Average accuracy over 4 folds is 0.6974137931034482\n",
      "Testing 0.4 min impurity decrease\n",
      "    Average accuracy over 4 folds is 0.3528735632183908\n",
      "\n",
      "Best min impurity decrease is 0.1\n",
      "\n",
      "Testing 0.1 min impurity decrease\n",
      "    Average accuracy over 4 folds is 0.974712643678161\n",
      "Testing 0.25 min impurity decrease\n",
      "    Average accuracy over 4 folds is 0.974712643678161\n",
      "Testing 0.3 min impurity decrease\n",
      "    Average accuracy over 4 folds is 0.6974137931034482\n",
      "Testing 0.4 min impurity decrease\n",
      "    Average accuracy over 4 folds is 0.3781609195402299\n",
      "\n",
      "Best min impurity decrease is 0.1\n",
      "\n",
      "Testing 0.1 min impurity decrease\n",
      "    Average accuracy over 4 folds is 0.9435483870967742\n",
      "Testing 0.25 min impurity decrease\n",
      "    Average accuracy over 4 folds is 0.7983870967741935\n",
      "Testing 0.3 min impurity decrease\n",
      "    Average accuracy over 4 folds is 0.6774193548387096\n",
      "Testing 0.4 min impurity decrease\n",
      "    Average accuracy over 4 folds is 0.3548387096774194\n",
      "\n",
      "Best min impurity decrease is 0.1\n",
      "\n"
     ]
    }
   ],
   "source": [
    "import sklearn\n",
    "possible_min_impurity_decrease = np.array([0.1,0.25,0.3,0.4])\n",
    "\n",
    "# Outer loop\n",
    "outer_acc = np.array([])\n",
    "for k in dict_k_df_X.keys():\n",
    "    # separate train and test case each time\n",
    "    lst = []\n",
    "    for i in range(1, 6):\n",
    "        if i != k:\n",
    "            lst.append(i)\n",
    "    df_train = pd.concat([dict_k_df_X[lst[0]], dict_k_df_X[lst[1]], dict_k_df_X[lst[2]], dict_k_df_X[lst[3]]])\n",
    "    y_train = pd.concat([dict_k_s_y[lst[0]], dict_k_s_y[lst[1]], dict_k_s_y[lst[2]], dict_k_s_y[lst[3]]])\n",
    "    \n",
    "    \n",
    "    for pos_min_impurity in possible_min_impurity_decrease:\n",
    "        \n",
    "        # Inner loop cross validation code here (use 4 folds, where the fold does not include k)\n",
    "        cross_validation = sklearn.model_selection.cross_validate(tree.DecisionTreeClassifier(min_impurity_decrease = pos_min_impurity), df_train, y_train, cv=4)\n",
    "        avg_acc = cross_validation['test_score'].mean()\n",
    "        train_lst = []\n",
    "        train_lst.append(avg_acc)\n",
    "        print('Testing',pos_min_impurity, 'min impurity decrease')\n",
    "        print('    Average accuracy over 4 folds is', avg_acc)\n",
    "        \n",
    "    # Use best min impurity decrease to train model\n",
    "    print()\n",
    "    # using the highest avg acc here to find best one\n",
    "    best_min_impurity = possible_min_impurity_decrease[train_lst.index(max(train_lst))]\n",
    "    print('Best min impurity decrease is', best_min_impurity)\n",
    "    print()\n",
    "    \n",
    "    # outer accuracy calculation \n",
    "    clf = tree.DecisionTreeClassifier(min_impurity_decrease = best_min_impurity)\n",
    "    tree2 = clf.fit(dict_k_df_X[k], dict_k_s_y[k])\n",
    "    \n",
    "    this_acc = get_acc(tree2.predict(dict_k_df_X[k]), dict_k_s_y[k])\n",
    "\n",
    "    outer_acc = np.append(outer_acc,this_acc) # make sure and calculate this_acc in your loop"
   ]
  },
  {
   "cell_type": "markdown",
   "metadata": {},
   "source": [
    "## Q2.5 Show the generalized performance of the classifier \n",
    "Show the generalized performance of the classifier by printing the min, max, and mean accuracy of the outer fold test sets."
   ]
  },
  {
   "cell_type": "code",
   "execution_count": 116,
   "metadata": {},
   "outputs": [
    {
     "name": "stdout",
     "output_type": "stream",
     "text": [
      "min 0.9615384615384616\n",
      "max 1.0\n",
      "mean 0.972952853598015\n"
     ]
    }
   ],
   "source": [
    "print('min', outer_acc.min())\n",
    "print('max', outer_acc.max())\n",
    "print('mean', outer_acc.mean())"
   ]
  },
  {
   "cell_type": "code",
   "execution_count": null,
   "metadata": {},
   "outputs": [],
   "source": []
  },
  {
   "cell_type": "code",
   "execution_count": null,
   "metadata": {},
   "outputs": [],
   "source": []
  }
 ],
 "metadata": {
  "kernelspec": {
   "display_name": "Python 3",
   "language": "python",
   "name": "python3"
  },
  "language_info": {
   "codemirror_mode": {
    "name": "ipython",
    "version": 3
   },
   "file_extension": ".py",
   "mimetype": "text/x-python",
   "name": "python",
   "nbconvert_exporter": "python",
   "pygments_lexer": "ipython3",
   "version": "3.8.8"
  }
 },
 "nbformat": 4,
 "nbformat_minor": 4
}
