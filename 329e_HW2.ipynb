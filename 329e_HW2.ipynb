{
 "cells": [
  {
   "cell_type": "markdown",
   "metadata": {},
   "source": [
    "# Homework 2\n",
    "\n",
    "## Your Name Here (or your names here if you are pair programming)\n",
    "\n",
    "## Practicing Pandas\n"
   ]
  },
  {
   "cell_type": "code",
   "execution_count": 2,
   "metadata": {},
   "outputs": [],
   "source": [
    "# Standard Headers\n",
    "# You are welcome to add additional headers here if you wish\n",
    "import pandas as pd\n",
    "import numpy as np\n",
    "import matplotlib.pyplot as plt\n",
    "\n",
    "# Enable inline mode for matplotlib so that Jupyter displays graphs\n",
    "%matplotlib inline"
   ]
  },
  {
   "cell_type": "markdown",
   "metadata": {},
   "source": [
    "# Social Network Dataset\n",
    "\n",
    "In this assignment we work with a social network dataset. \n",
    "\n",
    "You have 5 tables to work on. \n",
    "\n",
    "1. **person_knows_person**\n",
    "This table represents the friendship between users. A person can have many friends. Persons have unique integer id number. \n",
    "\n",
    "2. **person_likes_post_file** \n",
    "This tables represents user likes. A person and a post is represented by IDs. \n",
    "\n",
    "3. **post_hasCreator_person**\n",
    "A person creates many posts. Each post has a unique creator person id. \n",
    "\n",
    "4. **comment_replyOf_post**\n",
    "This table represents comments on posts. Both post and comments have unique ids. \n",
    "\n",
    "5. **comment_hasCreator_person** \n",
    "A user can comment on posts. Each comment has a unique creator person id. \n"
   ]
  },
  {
   "cell_type": "code",
   "execution_count": 3,
   "metadata": {},
   "outputs": [
    {
     "name": "stdout",
     "output_type": "stream",
     "text": [
      "   Person.id  Person.id.1\n",
      "0         38          956\n",
      "1         38          962\n",
      "2         38          941\n",
      "3         38           74\n",
      "4         38           36\n",
      "-------------------------\n",
      "   Person.id  Post.id          creationDate\n",
      "0         74        0  2012-10-15T05:13:41Z\n",
      "1         36        0  2012-10-18T10:51:39Z\n",
      "2        417       10  2012-11-18T11:14:47Z\n",
      "3        415       10  2012-11-20T06:30:22Z\n",
      "4        109       10  2012-11-19T11:03:52Z\n",
      "-------------------------\n",
      "   Post.id  Person.id\n",
      "0        0         38\n",
      "1       10         38\n",
      "2       20         38\n",
      "3       30         38\n",
      "4       40         38\n",
      "-------------------------\n",
      "   Comment.id  Post.id\n",
      "0           0        0\n",
      "1          10        0\n",
      "2          30        0\n",
      "3          70        0\n",
      "4         100       10\n",
      "-------------------------\n",
      "   Comment.id  Person.id\n",
      "0           0         74\n",
      "1          10        832\n",
      "2          20        913\n",
      "3          30        457\n",
      "4          40        956\n",
      "-------------------------\n"
     ]
    }
   ],
   "source": [
    "url = \"https://raw.githubusercontent.com/kiat/Elements-of-Data-Analytics/main/datasets/social-media/\"\n",
    "\n",
    "person_knows_person_file = url + \"person_knows_person.csv\"\n",
    "person_likes_post_file = url + \"person_likes_post.csv\"\n",
    "post_hasCreator_person_file = url + \"post_hasCreator_person.csv\"\n",
    "comment_replyOf_post_file = url + \"comment_replyOf_post.csv\"\n",
    "comment_hasCreator_person_file = url + \"comment_hasCreator_person.csv\"\n",
    "\n",
    "person_knows_person = pd.read_csv(person_knows_person_file,  sep='|')\n",
    "person_likes_post = pd.read_csv(person_likes_post_file,  sep='|')\n",
    "post_hasCreator_person = pd.read_csv(post_hasCreator_person_file,  sep='|')\n",
    "comment_replyOf_post = pd.read_csv(comment_replyOf_post_file, sep='|')\n",
    "comment_hasCreator_person = pd.read_csv(comment_hasCreator_person_file,  sep='|')\n",
    "\n",
    "print(person_knows_person.head(5))\n",
    "print(\"-------------------------\")\n",
    "\n",
    "print(person_likes_post.head(5))\n",
    "print(\"-------------------------\")\n",
    "\n",
    "print(post_hasCreator_person.head(5))\n",
    "print(\"-------------------------\")\n",
    "\n",
    "print(comment_replyOf_post.head(5))\n",
    "print(\"-------------------------\")\n",
    "\n",
    "print(comment_hasCreator_person.head(5))\n",
    "print(\"-------------------------\")"
   ]
  },
  {
   "cell_type": "markdown",
   "metadata": {},
   "source": [
    "# Question - 1. Who are the top-10 users who have the highest number of friends? (4 points)\n",
    "Count up the number of friends of each user and provide the top-10 of this number of friend count list. Print out their user IDs. "
   ]
  },
  {
   "cell_type": "code",
   "execution_count": 4,
   "metadata": {},
   "outputs": [
    {
     "name": "stdout",
     "output_type": "stream",
     "text": [
      "0    336\n",
      "1     40\n",
      "2    959\n",
      "3    811\n",
      "4    938\n",
      "5    430\n",
      "6    296\n",
      "7    165\n",
      "8    804\n",
      "9    918\n",
      "Name: Person, dtype: int64\n"
     ]
    }
   ],
   "source": [
    "# Code here\n",
    "friends = person_knows_person['Person.id'].value_counts()\n",
    "most_friends = friends.nlargest(10)\n",
    "# add a column name\n",
    "# make series into dataframe\n",
    "# using dict\n",
    "\n",
    "named_form = pd.DataFrame({'Person': most_friends.index, 'count': most_friends.values})\n",
    "print(named_form['Person'])"
   ]
  },
  {
   "cell_type": "markdown",
   "metadata": {},
   "source": [
    "# Question - 2. Who wrote the most liked post?  (4 points)\n",
    "Count up the number of likes for each post and find out who wrote that post. \n",
    "Print out the user id. If there are multiple maximum print them all. "
   ]
  },
  {
   "cell_type": "code",
   "execution_count": 5,
   "metadata": {},
   "outputs": [
    {
     "name": "stdout",
     "output_type": "stream",
     "text": [
      "0        777\n",
      "1        827\n",
      "2        169\n",
      "3          8\n",
      "4        264\n",
      "        ... \n",
      "10873    360\n",
      "11610    161\n",
      "12007    593\n",
      "12307    968\n",
      "12854    855\n",
      "Name: Person.id, Length: 607, dtype: int64\n"
     ]
    }
   ],
   "source": [
    "# Code here \n",
    "posts= person_likes_post['Post.id'].value_counts()\n",
    "# add column names\n",
    "named_post = pd.DataFrame({'Post.id': posts.index, 'counted_likes': posts.values})\n",
    "most_liked_post = named_post[named_post['counted_likes']==9]\n",
    "\n",
    "most_liked_person = most_liked_post.merge(post_hasCreator_person,left_on='Post.id',right_on='Post.id',how='left')\n",
    "print(most_liked_person['Person.id'].drop_duplicates())"
   ]
  },
  {
   "cell_type": "markdown",
   "metadata": {},
   "source": [
    "# Question - 3. Who wrote the most influential post? The most influential post is the most discussed and most liked post. (4 points)\n",
    "\n",
    "**Tip:** First, count up the number of comments and likes that each post has. Then find out which post it is, and finally find out who wrote that. \n",
    "Print out one user id. \n"
   ]
  },
  {
   "cell_type": "code",
   "execution_count": 10,
   "metadata": {
    "scrolled": false
   },
   "outputs": [
    {
     "name": "stdout",
     "output_type": "stream",
     "text": [
      "0    325\n",
      "1    649\n",
      "2    794\n",
      "3    245\n",
      "4     15\n",
      "5     23\n",
      "Name: Person.id_y, dtype: int64\n",
      "The person.id of most influential post is 325\n"
     ]
    }
   ],
   "source": [
    "# Code here \n",
    "post_likes=person_likes_post.groupby('Post.id')['Person.id'].count().reset_index()\n",
    "\n",
    "\n",
    "post_comms=comment_replyOf_post.groupby('Post.id')['Comment.id'].count().reset_index()\n",
    "\n",
    "\n",
    "total_likes_comms=post_likes.merge(post_comms,left_on='Post.id',right_on='Post.id',how='left')\n",
    "\n",
    "total_likes_comms['sums']=total_likes_comms['Person.id']+total_likes_comms['Comment.id']\n",
    "\n",
    "max_s=total_likes_comms.sort_values(by='sums',ascending=False).iloc[0,3]\n",
    "\n",
    "influential_id=total_likes_comms[total_likes_comms.sums==max_s].merge(post_hasCreator_person,left_on='Post.id',right_on='Post.id',how='left')['Person.id_y']\n",
    "print(influential_id)\n",
    "# ['Person.id_y'] 意思是只看 person id？这个person.id_y是默认名字吗？\n",
    "# A：默认后缀 _y, 前面和后面表重合了，Person.id_x\n",
    "# 这里的两个post.id会自动组合吗？即左边postid 0 会与右边 postid 0 自动组合？如果右边不存在postid 0呢？postid0的comment id=NaN？需要替换0吗？\n",
    "# A:是的。左表有，右表没有，右表值为NaN；左表没有personid0，右表有personid0，以左边为准，不会出现personid0这一行\n",
    "print('The person.id of most influential post is',influential_id[0])"
   ]
  },
  {
   "cell_type": "markdown",
   "metadata": {},
   "source": [
    "# Question - 4. Create two histograms for the distributions of the number of likes and comments that users have. (4 points)\n",
    "Describe the shape of these data two data distributions. \n",
    "\n",
    "**Tip:** First perpare two lists of number of likes and number of comments that users have done. You need to count up how many likes and how many comments each unique user id has. "
   ]
  },
  {
   "cell_type": "code",
   "execution_count": 11,
   "metadata": {},
   "outputs": [
    {
     "name": "stdout",
     "output_type": "stream",
     "text": [
      "0      2223\n",
      "1        32\n",
      "2         0\n",
      "3       560\n",
      "4       592\n",
      "       ... \n",
      "993     374\n",
      "994    1657\n",
      "995     213\n",
      "996    1801\n",
      "997       0\n",
      "Name: Post.id, Length: 998, dtype: int64\n"
     ]
    },
    {
     "data": {
      "image/png": "[encoded data removed]",
      "text/plain": [
       "<Figure size 1440x576 with 1 Axes>"
      ]
     },
     "metadata": {
      "needs_background": "light"
     },
     "output_type": "display_data"
    },
    {
     "data": {
      "image/png": "[encoded data removed]",
      "text/plain": [
       "<Figure size 1440x576 with 1 Axes>"
      ]
     },
     "metadata": {
      "needs_background": "light"
     },
     "output_type": "display_data"
    }
   ],
   "source": [
    "person_id=person_knows_person[['Person.id']].drop_duplicates().reset_index(drop=True)\n",
    "# what's drop=True here?\n",
    "# A: 删除原索引\n",
    "likes=person_id.merge(person_likes_post,left_on='Person.id',right_on='Person.id',how='left').groupby('Person.id')['Post.id'].count().reset_index()['Post.id']\n",
    "# groupby('Person.id')['Post.id'].count()\n",
    "# reset_index()['Post.id']\n",
    "# 可以一直这样连下去吗？\n",
    "# A：首先需要知道总的用户数和点赞的用户数，没有点赞的地方是 NaN \n",
    "# count 时自动将NaN变成0\n",
    "# groupby 为 用户分组，id为2的person，post.id一共出现9个，分为id2的组，再对他进行操作\n",
    "comms1=comment_replyOf_post.merge(comment_hasCreator_person,left_on='Comment.id',right_on='Comment.id',how='left')\n",
    "comms2=person_id.merge(comms1,left_on='Person.id',right_on='Person.id',how='left')\n",
    "Comments=comms2.groupby('Person.id')['Comment.id'].count().reset_index()['Comment.id']\n",
    "data=likes\n",
    "plt.figure(figsize=(20,8))\n",
    "# what's figsize for?\n",
    "# 长为20，宽为8的一张图\n",
    "plt.hist(x = data, bins = 10, rwidth=0.8,color = 'blue')\n",
    "\n",
    "plt.xlabel('likes')\n",
    "plt.ylabel('frequency') \n",
    "\n",
    "plt.show()\n",
    "\n",
    "data=Comments\n",
    "\n",
    "plt.figure(figsize=(20,8))\n",
    "plt.hist(x = data,bins = 10,rwidth=0.8, color = 'blue')\n",
    "\n",
    "plt.xlabel('comments')\n",
    "plt.ylabel('frequency') \n",
    "\n",
    "\n",
    "\n",
    "\n",
    "plt.show()"
   ]
  },
  {
   "cell_type": "markdown",
   "metadata": {},
   "source": [
    "# Question - 5. What is the Pearson correlation coefficient between the number of comments and the number of likes that users do on the social network? (4 points)\n",
    "\n",
    "Print out one number. \n",
    "\n",
    "\n",
    "\n",
    "**Tip:** You can calculate correlation coefficient using the following formula: \n",
    "Assume that x and y are two arrays of data, in this case number of likes and comments of each user. \n",
    "\n",
    "\n",
    "\\begin{align*}\n",
    "r= {{ n(\\sum x y ) - (\\sum x ) (\\sum y)    } \\over { \\sqrt{ [ n \\sum x^2  -\n",
    "(\\sum x)^2 ] [ n\\sum y^2 - (\\sum y )^2 ] } } }\n",
    "\\end{align*}\n",
    "\n",
    "\n",
    "\n",
    "\n",
    "\n",
    "\n",
    "\n",
    "\n",
    "\n"
   ]
  },
  {
   "cell_type": "code",
   "execution_count": 10,
   "metadata": {},
   "outputs": [
    {
     "name": "stdout",
     "output_type": "stream",
     "text": [
      "0.924859384191192\n"
     ]
    }
   ],
   "source": [
    "x=likes\n",
    "y=Comments\n",
    "\n",
    "p1=len(x)*(sum(np.array(x)*np.array(y)))-x.sum()*y.sum()\n",
    "\n",
    "p2_1=len(x)*sum(np.array(x)**2)-sum(x)**2\n",
    "p2_2=len(x)*sum(np.array(y)**2)-sum(y)**2\n",
    "p2=np.sqrt(float(p2_1)*float(p2_2))\n",
    "\n",
    "# how to eliminate NaNs here?\n",
    "# why n = len(x)?\n",
    "# x,y个数是一样的，所以随便选了一个variable的数量\n",
    "r=p1/p2\n",
    "\n",
    "print(r)"
   ]
  },
  {
   "cell_type": "code",
   "execution_count": null,
   "metadata": {},
   "outputs": [],
   "source": []
  }
 ],
 "metadata": {
  "kernelspec": {
   "display_name": "Python 3 (ipykernel)",
   "language": "python",
   "name": "python3"
  },
  "language_info": {
   "codemirror_mode": {
    "name": "ipython",
    "version": 3
   },
   "file_extension": ".py",
   "mimetype": "text/x-python",
   "name": "python",
   "nbconvert_exporter": "python",
   "pygments_lexer": "ipython3",
   "version": "3.8.8"
  }
 },
 "nbformat": 4,
 "nbformat_minor": 4
}
